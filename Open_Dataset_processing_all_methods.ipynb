{
  "nbformat": 4,
  "nbformat_minor": 0,
  "metadata": {
    "colab": {
      "name": "Open Dataset processing all methods.ipynb",
      "provenance": [],
      "collapsed_sections": [],
      "authorship_tag": "ABX9TyPBbByhOnQTfwXAiQwsmnPg",
      "include_colab_link": true
    },
    "kernelspec": {
      "name": "python3",
      "display_name": "Python 3"
    }
  },
  "cells": [
    {
      "cell_type": "markdown",
      "metadata": {
        "id": "view-in-github",
        "colab_type": "text"
      },
      "source": [
        "<a href=\"https://colab.research.google.com/github/Ivan-Nebogatikov/HumanActivityRecognition/blob/master/Open_Dataset_processing_all_methods.ipynb\" target=\"_parent\"><img src=\"https://colab.research.google.com/assets/colab-badge.svg\" alt=\"Open In Colab\"/></a>"
      ]
    },
    {
      "cell_type": "markdown",
      "metadata": {
        "id": "U10qHmP5MCQf",
        "colab_type": "text"
      },
      "source": [
        "Скачиваем и разбираем данные"
      ]
    },
    {
      "cell_type": "code",
      "metadata": {
        "id": "DHdNGvyRK_6C",
        "colab_type": "code",
        "colab": {
          "base_uri": "https://localhost:8080/",
          "height": 269
        },
        "outputId": "3300fc98-b4b6-45ad-a275-53f51ba2aa97"
      },
      "source": [
        "import numpy as np\n",
        "import pandas as pd\n",
        "import json\n",
        "from datetime import datetime\n",
        "from datetime import date\n",
        "from math import sqrt\n",
        "\n",
        "def getValue(x):\n",
        "    l = list(json.loads(x.replace('\\'', '\"')))\n",
        "    return l\n",
        "\n",
        "def getDiff(x):\n",
        "    res = list()\n",
        "    for i, v in enumerate(x):\n",
        "        res.append(v)\n",
        "        #if i > 0:\n",
        "        #    res.append(v - x[i - 1])\n",
        "        #else:\n",
        "        #    res.append(0)\n",
        "    return res\n",
        "\n",
        "heart = pd.read_csv('https://raw.githubusercontent.com/Ivan-Nebogatikov/HumanActivityRecognition/master/datasets/2282_3888_bundle_archive/heart.csv')\n",
        "heart['timestamp'] = heart['timestamp'].map(lambda x: datetime.strptime(x, \"%Y-%m-%d %H:%M:%S.%f\"))\n",
        "heart = heart.sort_values(by='timestamp')\n",
        "\n",
        "def getHeart(x):\n",
        "    dt = datetime.strptime(x, \"%Y-%m-%d %H:%M:%S.%f\")\n",
        "    f = heart[heart['timestamp'] < dt]\n",
        "    lastValue = f.iloc[[-1]]['values'].tolist()[0]\n",
        "    intValue = list(json.loads(lastValue.replace('\\'', '\"')))[0]\n",
        "    return intValue\n",
        "\n",
        "acc = pd.read_csv('https://raw.githubusercontent.com/Ivan-Nebogatikov/HumanActivityRecognition/master/datasets/2282_3888_bundle_archive/acc.csv')\n",
        "acc['heart'] = acc['timestamp'].map(lambda x: getHeart(x))\n",
        "print(acc)\n",
        "\n",
        "def change(x):\n",
        "    if x == 'Pause' or x == 'Movie':\n",
        "        x = 'Watching TV'\n",
        "    if x == 'Shop':\n",
        "        x = 'Walk'\n",
        "    if x == 'Football':\n",
        "        x = 'Running'\n",
        "    if x == 'Meeting' or x == 'Work' or x == 'Picnic ' or x == 'In vehicle' or x == 'In bus' :\n",
        "        x = 'Sitting'\n",
        "    if x == 'On bus stop':\n",
        "        x = 'Walk'\n",
        "    if x == 'Walking&party' or x == 'Shopping& wearing' or x == 'At home':\n",
        "        x = 'Walk'\n",
        "    return x\n",
        "acc['act'] = acc['act'].map(lambda x: change(x))\n",
        "\n",
        "labels = np.array(acc['act'])\n",
        "\n",
        "arrays = acc['values'].map(lambda x: getValue(x))\n",
        "x = getDiff(list(arrays.map(lambda x: np.double(x[0]))))\n",
        "y = getDiff(list(arrays.map(lambda x: np.double(x[1]))))\n",
        "z = getDiff(list(arrays.map(lambda x: np.double(x[2]))))\n",
        "dist = list(map(lambda a, b, c: sqrt(a*a+b*b+c*c), x, y, z))\n"
      ],
      "execution_count": 1,
      "outputs": [
        {
          "output_type": "stream",
          "text": [
            "      Unnamed: 0   index  ...     act heart\n",
            "0           5022  169370  ...     Eat  79.0\n",
            "1           5030  169379  ...     Eat  76.0\n",
            "2           5048  169397  ...     Eat  72.0\n",
            "3           5067  169416  ...     Eat  71.0\n",
            "4           5084  169433  ...     Eat  71.0\n",
            "...          ...     ...  ...     ...   ...\n",
            "4737      172492  136369  ...  In bus  73.0\n",
            "4738      172501  136379  ...  In bus  70.0\n",
            "4739      172509  136387  ...  In bus  72.0\n",
            "4740      172514  136392  ...  In bus  73.0\n",
            "4741      172525  136403  ...  In bus  72.0\n",
            "\n",
            "[4742 rows x 7 columns]\n"
          ],
          "name": "stdout"
        }
      ]
    },
    {
      "cell_type": "markdown",
      "metadata": {
        "id": "qkK3h7tYxRkA",
        "colab_type": "text"
      },
      "source": [
        "Вспомогательная функция для вывода результатов"
      ]
    },
    {
      "cell_type": "code",
      "metadata": {
        "id": "1TfTT2qYTZbu",
        "colab_type": "code",
        "colab": {}
      },
      "source": [
        "import pandas as pd\n",
        "import numpy as np\n",
        "from scipy import interp\n",
        "\n",
        "from sklearn.metrics import accuracy_score\n",
        "from sklearn.metrics import precision_recall_fscore_support\n",
        "from sklearn.metrics import roc_curve, auc\n",
        "from sklearn.preprocessing import LabelBinarizer\n",
        "\n",
        "def class_report(y_true, y_pred, y_score=None, average='micro'):\n",
        "    if y_true.shape != y_pred.shape:\n",
        "        print(\"Error! y_true %s is not the same shape as y_pred %s\" % (\n",
        "              y_true.shape,\n",
        "              y_pred.shape)\n",
        "        )\n",
        "        return\n",
        "    accuracy = accuracy_score(y_true, y_pred)\n",
        "    print(\"Accuracy:\", accuracy)\n",
        "\n",
        "    lb = LabelBinarizer()\n",
        "\n",
        "    if len(y_true.shape) == 1:\n",
        "        lb.fit(y_true)\n",
        "\n",
        "    #Value counts of predictions\n",
        "    labels, cnt = np.unique(\n",
        "        y_pred,\n",
        "        return_counts=True)\n",
        "    n_classes = 5\n",
        "    pred_cnt = pd.Series(cnt, index=labels)\n",
        "\n",
        "    metrics_summary = precision_recall_fscore_support(\n",
        "            y_true=y_true,\n",
        "            y_pred=y_pred,\n",
        "            labels=labels)\n",
        "\n",
        "    avg = list(precision_recall_fscore_support(\n",
        "            y_true=y_true, \n",
        "            y_pred=y_pred,\n",
        "            average='weighted'))\n",
        "\n",
        "    metrics_sum_index = ['precision', 'recall', 'f1-score', 'support']\n",
        "    class_report_df = pd.DataFrame(\n",
        "        list(metrics_summary),\n",
        "        index=metrics_sum_index,\n",
        "        columns=labels)\n",
        "\n",
        "    support = class_report_df.loc['support']\n",
        "    total = support.sum() \n",
        "    class_report_df['avg / total'] = avg[:-1] + [total]\n",
        "\n",
        "    class_report_df = class_report_df.T\n",
        "    class_report_df['pred'] = pred_cnt\n",
        "    class_report_df['pred'].iloc[-1] = total\n",
        "\n",
        "    if not (y_score is None):\n",
        "        fpr = dict()\n",
        "        tpr = dict()\n",
        "        roc_auc = dict()\n",
        "        for label_it, label in enumerate(labels):\n",
        "            fpr[label], tpr[label], _ = roc_curve(\n",
        "                (y_true == label).astype(int), \n",
        "                y_score[:, label_it])\n",
        "\n",
        "            roc_auc[label] = auc(fpr[label], tpr[label])\n",
        "\n",
        "        if average == 'micro':\n",
        "            if n_classes <= 2:\n",
        "                fpr[\"avg / total\"], tpr[\"avg / total\"], _ = roc_curve(\n",
        "                    lb.transform(y_true).ravel(), \n",
        "                    y_score[:, 1].ravel())\n",
        "            else:\n",
        "                fpr[\"avg / total\"], tpr[\"avg / total\"], _ = roc_curve(\n",
        "                        lb.transform(y_true).ravel(), \n",
        "                        y_score.ravel())\n",
        "\n",
        "            roc_auc[\"avg / total\"] = auc(\n",
        "                fpr[\"avg / total\"], \n",
        "                tpr[\"avg / total\"])\n",
        "\n",
        "        elif average == 'macro':\n",
        "            # First aggregate all false positive rates\n",
        "            all_fpr = np.unique(np.concatenate([\n",
        "                fpr[i] for i in labels]\n",
        "            ))\n",
        "\n",
        "            # Then interpolate all ROC curves at this points\n",
        "            mean_tpr = np.zeros_like(all_fpr)\n",
        "            for i in labels:\n",
        "                mean_tpr += interp(all_fpr, fpr[i], tpr[i])\n",
        "\n",
        "            # Finally average it and compute AUC\n",
        "            mean_tpr /= n_classes\n",
        "\n",
        "            fpr[\"macro\"] = all_fpr\n",
        "            tpr[\"macro\"] = mean_tpr\n",
        "\n",
        "            roc_auc[\"avg / total\"] = auc(fpr[\"macro\"], tpr[\"macro\"])\n",
        "\n",
        "        class_report_df['AUC'] = pd.Series(roc_auc)\n",
        "\n",
        "    print(class_report_df)\n",
        "    return accuracy"
      ],
      "execution_count": 2,
      "outputs": []
    },
    {
      "cell_type": "markdown",
      "metadata": {
        "id": "3Ea-wIjMMrP2",
        "colab_type": "text"
      },
      "source": [
        "Определяем функции для предсказания с использованием классификатора и с использованием нескольких классификаторов"
      ]
    },
    {
      "cell_type": "code",
      "metadata": {
        "id": "YGaczMp0LBbX",
        "colab_type": "code",
        "colab": {}
      },
      "source": [
        "from sklearn.metrics import accuracy_score\n",
        "from sklearn.metrics import classification_report\n",
        "from sklearn.metrics import roc_auc_score\n",
        "from sklearn import metrics\n",
        "from sklearn.ensemble import RandomForestClassifier\n",
        "from sklearn.model_selection import train_test_split\n",
        "from sklearn.neighbors import KNeighborsClassifier\n",
        "from sklearn.neural_network import MLPClassifier\n",
        "import pandas as pd\n",
        "\n",
        "def Predict(x, classifier = RandomForestClassifier(n_estimators = 400, random_state = 3, class_weight='balanced')):\n",
        "    train_features, test_features, train_labels, test_labels = train_test_split(x, labels, test_size = 0.15, random_state = 242)\n",
        "    print('Training Features Shape:', train_features.shape)\n",
        "    print('Testing Features Shape:', test_features.shape)\n",
        "    print(\"\\n\")\n",
        "\n",
        "    classifier.fit(train_features, train_labels);\n",
        "\n",
        "    predictions = list(classifier.predict(test_features))\n",
        "    pred_prob = classifier.predict_proba(test_features)\n",
        "\n",
        "    accuracy = class_report(\n",
        "        y_true=test_labels, \n",
        "        y_pred=np.asarray(predictions), \n",
        "        y_score=pred_prob, average='micro')\n",
        "    \n",
        "    if hasattr(classifier, 'feature_importances_'):\n",
        "      print(classifier.feature_importances_)\n",
        "\n",
        "    return accuracy\n",
        "\n",
        "def PredictWithClassifiers(data, classifiers):\n",
        "    accuracies = {}\n",
        "    for name, value in classifiers.items():\n",
        "      accuracy = Predict(data, value)\n",
        "      accuracies[name] = accuracy\n",
        "      print(\"\\n\")\n",
        "    df = pd.DataFrame(accuracies.items(), columns=[\"Method\", \"Accuracy\"])\n",
        "    print(df)"
      ],
      "execution_count": 3,
      "outputs": []
    },
    {
      "cell_type": "markdown",
      "metadata": {
        "id": "KLcdqDi2M5-M",
        "colab_type": "text"
      },
      "source": [
        "Определяем набор используемых классификаторов"
      ]
    },
    {
      "cell_type": "code",
      "metadata": {
        "id": "0016wCDfwXp4",
        "colab_type": "code",
        "colab": {}
      },
      "source": [
        "from sklearn import svm\n",
        "from sklearn.naive_bayes import GaussianNB\n",
        "from sklearn.gaussian_process import GaussianProcessClassifier\n",
        "from sklearn.gaussian_process.kernels import RBF\n",
        "from sklearn.ensemble import AdaBoostClassifier\n",
        "\n",
        "methods = {\n",
        "    \"MLP\" : MLPClassifier(random_state=1, max_iter=300),\n",
        "    \"K-neigh\" : KNeighborsClassifier(), # default k = 5\n",
        "    \"Random Forest\" : RandomForestClassifier(n_estimators = 400, random_state = 3, class_weight='balanced'),\n",
        "    \"Bayes\" : GaussianNB(),\n",
        "    \"AdaBoost\" : AdaBoostClassifier(),\n",
        "    \"SVM\" : svm.SVC(probability=True, class_weight='balanced')\n",
        "}"
      ],
      "execution_count": 4,
      "outputs": []
    },
    {
      "cell_type": "markdown",
      "metadata": {
        "id": "u9Q_bSup8bdA",
        "colab_type": "text"
      },
      "source": [
        "Предсказываем, используя только данные сердцебиения"
      ]
    },
    {
      "cell_type": "code",
      "metadata": {
        "id": "SjGEh7FeNcrN",
        "colab_type": "code",
        "colab": {
          "base_uri": "https://localhost:8080/",
          "height": 1000
        },
        "outputId": "8f29dc88-c3eb-47a3-895f-0e8d5b8cb63e"
      },
      "source": [
        "frame = pd.DataFrame(list(acc['heart']), columns=['h'])\n",
        "feature_list = list(frame.columns)\n",
        "print(frame)\n",
        "\n",
        "PredictWithClassifiers(frame, methods)"
      ],
      "execution_count": 5,
      "outputs": [
        {
          "output_type": "stream",
          "text": [
            "         h\n",
            "0     79.0\n",
            "1     76.0\n",
            "2     72.0\n",
            "3     71.0\n",
            "4     71.0\n",
            "...    ...\n",
            "4737  73.0\n",
            "4738  70.0\n",
            "4739  72.0\n",
            "4740  73.0\n",
            "4741  72.0\n",
            "\n",
            "[4742 rows x 1 columns]\n",
            "Training Features Shape: (4030, 1)\n",
            "Testing Features Shape: (712, 1)\n",
            "\n",
            "\n",
            "Accuracy: 0.28651685393258425\n",
            "             precision    recall  f1-score  support   pred       AUC\n",
            "Eat           0.750000  0.055556  0.103448     54.0    4.0  0.542328\n",
            "Walk          0.283898  1.000000  0.442244    201.0  708.0  0.424059\n",
            "avg / total   0.137027  0.286517  0.132693    255.0  255.0  0.783868\n",
            "\n",
            "\n",
            "Training Features Shape: (4030, 1)\n",
            "Testing Features Shape: (712, 1)\n",
            "\n",
            "\n",
            "Accuracy: 0.23735955056179775\n",
            "             precision    recall  f1-score  support   pred       AUC\n",
            "Cooking       0.058824  0.038462  0.046512     26.0   17.0  0.614235\n",
            "Eat           0.238095  0.092593  0.133333     54.0   21.0  0.638326\n",
            "In computer   0.248227  0.271318  0.259259    129.0  141.0  0.570618\n",
            "Running       0.612903  0.500000  0.550725     38.0   31.0  0.500000\n",
            "Sitting       0.173184  0.226277  0.196203    137.0  179.0  0.479365\n",
            "Sleep         0.083333  0.038462  0.052632     52.0   24.0  0.462252\n",
            "Train         0.033333  0.086957  0.048193     23.0   60.0  0.481353\n",
            "Walk          0.309623  0.368159  0.336364    201.0  239.0  0.519725\n",
            "avg / total   0.225785  0.237360  0.226286    660.0  660.0  0.679124\n",
            "\n",
            "\n",
            "Training Features Shape: (4030, 1)\n",
            "Testing Features Shape: (712, 1)\n",
            "\n",
            "\n"
          ],
          "name": "stdout"
        },
        {
          "output_type": "stream",
          "text": [
            "/usr/local/lib/python3.6/dist-packages/sklearn/metrics/_classification.py:1272: UndefinedMetricWarning: Precision and F-score are ill-defined and being set to 0.0 in labels with no predicted samples. Use `zero_division` parameter to control this behavior.\n",
            "  _warn_prf(average, modifier, msg_start, len(result))\n",
            "/usr/local/lib/python3.6/dist-packages/sklearn/metrics/_classification.py:1272: UndefinedMetricWarning: Precision and F-score are ill-defined and being set to 0.0 in labels with no predicted samples. Use `zero_division` parameter to control this behavior.\n",
            "  _warn_prf(average, modifier, msg_start, len(result))\n"
          ],
          "name": "stderr"
        },
        {
          "output_type": "stream",
          "text": [
            "Accuracy: 0.14747191011235955\n",
            "                                      precision    recall  ...   pred       AUC\n",
            "Cooking                                0.171429  0.230769  ...   35.0  0.750000\n",
            "Eat                                    0.189189  0.259259  ...   74.0  0.683665\n",
            "In computer                            0.250000  0.093023  ...   48.0  0.565559\n",
            "Phone was out of the pocket (forgot)   0.019868  0.500000  ...  151.0  0.691572\n",
            "Running                                0.594595  0.578947  ...   37.0  0.879178\n",
            "Sitting                                0.290323  0.065693  ...   31.0  0.593627\n",
            "Sleep                                  0.265823  0.403846  ...   79.0  0.693415\n",
            "Train                                  0.064935  0.217391  ...   77.0  0.639364\n",
            "Video games                            0.000000  0.000000  ...   64.0  0.607804\n",
            "Walk                                   0.800000  0.019900  ...    5.0  0.542663\n",
            "Watching TV                            0.081081  0.300000  ...  111.0  0.609922\n",
            "avg / total                            0.404438  0.147472  ...  712.0  0.665716\n",
            "\n",
            "[12 rows x 6 columns]\n",
            "[1.]\n",
            "\n",
            "\n",
            "Training Features Shape: (4030, 1)\n",
            "Testing Features Shape: (712, 1)\n",
            "\n",
            "\n",
            "Accuracy: 0.2907303370786517\n",
            "             precision    recall  f1-score  support   pred       AUC\n",
            "Running       0.647059  0.289474  0.400000     38.0   17.0  0.634332\n",
            "Walk          0.282014  0.975124  0.437500    201.0  695.0  0.473761\n",
            "avg / total   0.114148  0.290730  0.144856    239.0  239.0  0.782405\n",
            "\n",
            "\n",
            "Training Features Shape: (4030, 1)\n",
            "Testing Features Shape: (712, 1)\n",
            "\n",
            "\n"
          ],
          "name": "stdout"
        },
        {
          "output_type": "stream",
          "text": [
            "/usr/local/lib/python3.6/dist-packages/sklearn/metrics/_classification.py:1272: UndefinedMetricWarning: Precision and F-score are ill-defined and being set to 0.0 in labels with no predicted samples. Use `zero_division` parameter to control this behavior.\n",
            "  _warn_prf(average, modifier, msg_start, len(result))\n"
          ],
          "name": "stderr"
        },
        {
          "output_type": "stream",
          "text": [
            "Accuracy: 0.3089887640449438\n",
            "             precision    recall  f1-score  support   pred       AUC\n",
            "Eat           0.750000  0.055556  0.103448     54.0    4.0  0.516394\n",
            "Running       0.568182  0.657895  0.609756     38.0   44.0  0.773680\n",
            "Walk          0.289157  0.955224  0.443931    201.0  664.0  0.478245\n",
            "avg / total   0.168836  0.308989  0.165712    293.0  293.0  0.753155\n",
            "[1.]\n",
            "\n",
            "\n",
            "Training Features Shape: (4030, 1)\n",
            "Testing Features Shape: (712, 1)\n",
            "\n",
            "\n"
          ],
          "name": "stdout"
        },
        {
          "output_type": "stream",
          "text": [
            "/usr/local/lib/python3.6/dist-packages/sklearn/metrics/_classification.py:1272: UndefinedMetricWarning: Precision and F-score are ill-defined and being set to 0.0 in labels with no predicted samples. Use `zero_division` parameter to control this behavior.\n",
            "  _warn_prf(average, modifier, msg_start, len(result))\n"
          ],
          "name": "stderr"
        },
        {
          "output_type": "stream",
          "text": [
            "Accuracy: 0.11657303370786516\n",
            "                                      precision    recall  ...   pred       AUC\n",
            "Cooking                                0.157895  0.346154  ...   57.0  0.719500\n",
            "Eat                                    0.130435  0.166667  ...   69.0  0.617218\n",
            "Phone was out of the pocket (forgot)   0.007194  0.166667  ...  139.0  0.530925\n",
            "Running                                0.625000  0.657895  ...   40.0  0.139993\n",
            "Sleep                                  0.226667  0.326923  ...   75.0  0.487383\n",
            "Train                                  0.044118  0.260870  ...  136.0  0.617562\n",
            "Walk                                   1.000000  0.019900  ...    4.0  0.567685\n",
            "Watching TV                            0.062500  0.400000  ...  192.0  0.489345\n",
            "avg / total                            0.351992  0.116573  ...  430.0  0.796057\n",
            "\n",
            "[9 rows x 6 columns]\n",
            "\n",
            "\n",
            "          Method  Accuracy\n",
            "0            MLP  0.286517\n",
            "1        K-neigh  0.237360\n",
            "2  Random Forest  0.147472\n",
            "3          Bayes  0.290730\n",
            "4       AdaBoost  0.308989\n",
            "5            SVM  0.116573\n"
          ],
          "name": "stdout"
        },
        {
          "output_type": "stream",
          "text": [
            "/usr/local/lib/python3.6/dist-packages/sklearn/metrics/_classification.py:1272: UndefinedMetricWarning: Precision and F-score are ill-defined and being set to 0.0 in labels with no predicted samples. Use `zero_division` parameter to control this behavior.\n",
            "  _warn_prf(average, modifier, msg_start, len(result))\n"
          ],
          "name": "stderr"
        }
      ]
    },
    {
      "cell_type": "markdown",
      "metadata": {
        "id": "RrKArjHXM8yO",
        "colab_type": "text"
      },
      "source": [
        "Предсказываем, используя только данные акселерометра"
      ]
    },
    {
      "cell_type": "code",
      "metadata": {
        "id": "T0WIeNm9NEdd",
        "colab_type": "code",
        "colab": {
          "base_uri": "https://localhost:8080/",
          "height": 1000
        },
        "outputId": "b22670e3-0bb7-455a-d8d1-d947f5ae045b"
      },
      "source": [
        "frame = pd.DataFrame(zip(x, y, z), columns=['x', 'y', 'z'])\n",
        "feature_list = list(frame.columns)\n",
        "print(frame)\n",
        "\n",
        "PredictWithClassifiers(frame, methods)"
      ],
      "execution_count": 6,
      "outputs": [
        {
          "output_type": "stream",
          "text": [
            "              x          y         z\n",
            "0    -10.173126  -1.471237  1.924393\n",
            "1      4.726227 -10.251968  0.491104\n",
            "2    -10.776581  -0.819656 -0.581741\n",
            "3    -10.300018  -1.300781  0.812164\n",
            "4     -8.121658  -0.150238 -0.705032\n",
            "...         ...        ...       ...\n",
            "4737  -9.694046  -1.125046  2.037765\n",
            "4738 -10.787354  -2.289215  1.636612\n",
            "4739  -4.396042  -7.009506  2.160950\n",
            "4740  -9.635635   1.458542 -0.267487\n",
            "4741  -5.556152  -7.290588 -2.863174\n",
            "\n",
            "[4742 rows x 3 columns]\n",
            "Training Features Shape: (4030, 3)\n",
            "Testing Features Shape: (712, 3)\n",
            "\n",
            "\n"
          ],
          "name": "stdout"
        },
        {
          "output_type": "stream",
          "text": [
            "/usr/local/lib/python3.6/dist-packages/sklearn/neural_network/_multilayer_perceptron.py:571: ConvergenceWarning: Stochastic Optimizer: Maximum iterations (300) reached and the optimization hasn't converged yet.\n",
            "  % self.max_iter, ConvergenceWarning)\n",
            "/usr/local/lib/python3.6/dist-packages/sklearn/metrics/_classification.py:1272: UndefinedMetricWarning: Precision and F-score are ill-defined and being set to 0.0 in labels with no predicted samples. Use `zero_division` parameter to control this behavior.\n",
            "  _warn_prf(average, modifier, msg_start, len(result))\n"
          ],
          "name": "stderr"
        },
        {
          "output_type": "stream",
          "text": [
            "Accuracy: 0.3693820224719101\n",
            "             precision    recall  f1-score  support   pred       AUC\n",
            "Cooking       0.333333  0.038462  0.068966     26.0    3.0  0.840715\n",
            "In computer   0.395062  0.248062  0.304762    129.0   81.0  0.387796\n",
            "Running       0.444444  0.105263  0.170213     38.0    9.0  0.426831\n",
            "Sitting       0.414894  0.284672  0.337662    137.0   94.0  0.574675\n",
            "Sleep         0.541667  0.250000  0.342105     52.0   24.0  0.421911\n",
            "Train         0.666667  0.173913  0.275862     23.0    6.0  0.436108\n",
            "Walk          0.338843  0.815920  0.478832    201.0  484.0  0.459298\n",
            "Watching TV   0.545455  0.200000  0.292683     30.0   11.0  0.685435\n",
            "avg / total   0.367037  0.369382  0.313196    636.0  636.0  0.828836\n",
            "\n",
            "\n",
            "Training Features Shape: (4030, 3)\n",
            "Testing Features Shape: (712, 3)\n",
            "\n",
            "\n",
            "Accuracy: 0.4199438202247191\n",
            "                                      precision    recall  ...   pred       AUC\n",
            "Cooking                                0.185185  0.192308  ...   27.0  0.625589\n",
            "Eat                                    0.394737  0.277778  ...   38.0  0.705294\n",
            "In computer                            0.433333  0.503876  ...  150.0  0.716529\n",
            "Phone was out of the pocket (forgot)   0.000000  0.000000  ...    1.0  0.488669\n",
            "Running                                0.409091  0.236842  ...   22.0  0.649715\n",
            "Sitting                                0.410072  0.416058  ...  139.0  0.696630\n",
            "Sleep                                  0.735849  0.750000  ...   53.0  0.879108\n",
            "Train                                  0.360000  0.391304  ...   25.0  0.800940\n",
            "Video games                            0.263158  0.312500  ...   19.0  0.788344\n",
            "Walk                                   0.401826  0.437811  ...  219.0  0.644624\n",
            "Watching TV                            0.368421  0.233333  ...   19.0  0.730547\n",
            "avg / total                            0.416194  0.419944  ...  712.0  0.781996\n",
            "\n",
            "[12 rows x 6 columns]\n",
            "\n",
            "\n",
            "Training Features Shape: (4030, 3)\n",
            "Testing Features Shape: (712, 3)\n",
            "\n",
            "\n",
            "Accuracy: 0.42837078651685395\n",
            "                                      precision    recall  ...   pred       AUC\n",
            "Cooking                                0.250000  0.115385  ...   12.0  0.792779\n",
            "Eat                                    0.393939  0.240741  ...   33.0  0.780057\n",
            "In computer                            0.457364  0.457364  ...  129.0  0.770287\n",
            "Phone was out of the pocket (forgot)   0.000000  0.000000  ...    1.0  0.713645\n",
            "Running                                0.357143  0.131579  ...   14.0  0.815145\n",
            "Sitting                                0.414062  0.386861  ...  128.0  0.720457\n",
            "Sleep                                  0.822222  0.711538  ...   45.0  0.911407\n",
            "Train                                  0.380952  0.347826  ...   21.0  0.799205\n",
            "Video games                            0.384615  0.312500  ...   13.0  0.771417\n",
            "Walk                                   0.374172  0.562189  ...  302.0  0.678598\n",
            "Watching TV                            0.642857  0.300000  ...   14.0  0.869282\n",
            "avg / total                            0.434321  0.428371  ...  712.0  0.860126\n",
            "\n",
            "[12 rows x 6 columns]\n",
            "[0.33787224 0.3259184  0.33620936]\n",
            "\n",
            "\n",
            "Training Features Shape: (4030, 3)\n",
            "Testing Features Shape: (712, 3)\n",
            "\n",
            "\n",
            "Accuracy: 0.2710674157303371\n",
            "             precision    recall  f1-score  support   pred       AUC\n",
            "In computer   0.164179  0.085271  0.112245    129.0   67.0  0.406265\n",
            "Running       0.125000  0.026316  0.043478     38.0    8.0  0.671287\n",
            "Sitting       0.266667  0.058394  0.095808    137.0   30.0  0.496795\n",
            "Walk          0.285008  0.860697  0.428218    201.0  607.0  0.527130\n",
            "avg / total   0.168187  0.271067  0.161979    505.0  505.0  0.786244\n",
            "\n",
            "\n",
            "Training Features Shape: (4030, 3)\n",
            "Testing Features Shape: (712, 3)\n",
            "\n",
            "\n"
          ],
          "name": "stdout"
        },
        {
          "output_type": "stream",
          "text": [
            "/usr/local/lib/python3.6/dist-packages/sklearn/metrics/_classification.py:1272: UndefinedMetricWarning: Precision and F-score are ill-defined and being set to 0.0 in labels with no predicted samples. Use `zero_division` parameter to control this behavior.\n",
            "  _warn_prf(average, modifier, msg_start, len(result))\n"
          ],
          "name": "stderr"
        },
        {
          "output_type": "stream",
          "text": [
            "Accuracy: 0.2752808988764045\n",
            "                                      precision    recall  ...   pred       AUC\n",
            "Eat                                    0.285714  0.074074  ...   14.0  0.575833\n",
            "In computer                            0.256410  0.155039  ...   78.0  0.506150\n",
            "Phone was out of the pocket (forgot)   0.000000  0.000000  ...    6.0  0.508144\n",
            "Running                                0.173913  0.105263  ...   23.0  0.514720\n",
            "Sitting                                0.281046  0.313869  ...  153.0  0.471558\n",
            "Sleep                                  0.666667  0.038462  ...    3.0  0.439248\n",
            "Train                                  0.050000  0.173913  ...   80.0  0.659021\n",
            "Walk                                   0.345930  0.592040  ...  344.0  0.488930\n",
            "Watching TV                            0.000000  0.000000  ...   11.0  0.652786\n",
            "avg / total                            0.279447  0.275281  ...  670.0  0.717694\n",
            "\n",
            "[10 rows x 6 columns]\n",
            "[0.42 0.24 0.34]\n",
            "\n",
            "\n",
            "Training Features Shape: (4030, 3)\n",
            "Testing Features Shape: (712, 3)\n",
            "\n",
            "\n"
          ],
          "name": "stdout"
        },
        {
          "output_type": "stream",
          "text": [
            "/usr/local/lib/python3.6/dist-packages/sklearn/metrics/_classification.py:1272: UndefinedMetricWarning: Precision and F-score are ill-defined and being set to 0.0 in labels with no predicted samples. Use `zero_division` parameter to control this behavior.\n",
            "  _warn_prf(average, modifier, msg_start, len(result))\n"
          ],
          "name": "stderr"
        },
        {
          "output_type": "stream",
          "text": [
            "Accuracy: 0.13764044943820225\n",
            "                                      precision    recall  ...   pred       AUC\n",
            "Cooking                                0.152174  0.269231  ...   46.0  0.797712\n",
            "Eat                                    0.147727  0.240741  ...   88.0  0.716593\n",
            "In computer                            0.482759  0.108527  ...   29.0  0.652679\n",
            "Phone was out of the pocket (forgot)   0.017751  0.500000  ...  169.0  0.704202\n",
            "Running                                0.203704  0.289474  ...   54.0  0.750234\n",
            "Sitting                                0.260870  0.043796  ...   23.0  0.611374\n",
            "Sleep                                  0.315068  0.442308  ...   73.0  0.793852\n",
            "Train                                  0.030769  0.086957  ...   65.0  0.719064\n",
            "Video games                            0.019608  0.125000  ...  102.0  0.698635\n",
            "Walk                                   0.461538  0.029851  ...   13.0  0.603314\n",
            "Watching TV                            0.220000  0.366667  ...   50.0  0.844917\n",
            "avg / total                            0.329453  0.137640  ...  712.0  0.810753\n",
            "\n",
            "[12 rows x 6 columns]\n",
            "\n",
            "\n",
            "          Method  Accuracy\n",
            "0            MLP  0.369382\n",
            "1        K-neigh  0.419944\n",
            "2  Random Forest  0.428371\n",
            "3          Bayes  0.271067\n",
            "4       AdaBoost  0.275281\n",
            "5            SVM  0.137640\n"
          ],
          "name": "stdout"
        }
      ]
    },
    {
      "cell_type": "markdown",
      "metadata": {
        "id": "lKw1FXFcM_TP",
        "colab_type": "text"
      },
      "source": [
        "Предсказываем, используя данные обоих датчиков"
      ]
    },
    {
      "cell_type": "code",
      "metadata": {
        "id": "VckUJfacPhAG",
        "colab_type": "code",
        "colab": {
          "base_uri": "https://localhost:8080/",
          "height": 1000
        },
        "outputId": "1c3535d5-9fcf-4a64-bd89-5412e96adb0e"
      },
      "source": [
        "frame = pd.DataFrame(zip(list(acc['heart']), x, y, z), columns=['h', 'x', 'y', 'z'])\n",
        "feature_list = list(frame.columns)\n",
        "print(frame)\n",
        "\n",
        "PredictWithClassifiers(frame, methods)"
      ],
      "execution_count": 7,
      "outputs": [
        {
          "output_type": "stream",
          "text": [
            "         h          x          y         z\n",
            "0     79.0 -10.173126  -1.471237  1.924393\n",
            "1     76.0   4.726227 -10.251968  0.491104\n",
            "2     72.0 -10.776581  -0.819656 -0.581741\n",
            "3     71.0 -10.300018  -1.300781  0.812164\n",
            "4     71.0  -8.121658  -0.150238 -0.705032\n",
            "...    ...        ...        ...       ...\n",
            "4737  73.0  -9.694046  -1.125046  2.037765\n",
            "4738  70.0 -10.787354  -2.289215  1.636612\n",
            "4739  72.0  -4.396042  -7.009506  2.160950\n",
            "4740  73.0  -9.635635   1.458542 -0.267487\n",
            "4741  72.0  -5.556152  -7.290588 -2.863174\n",
            "\n",
            "[4742 rows x 4 columns]\n",
            "Training Features Shape: (4030, 4)\n",
            "Testing Features Shape: (712, 4)\n",
            "\n",
            "\n",
            "Accuracy: 0.3693820224719101\n",
            "             precision    recall  f1-score  support   pred       AUC\n",
            "Eat           0.750000  0.055556  0.103448     54.0    4.0  0.618822\n",
            "In computer   0.381679  0.387597  0.384615    129.0  131.0  0.403819\n",
            "Running       0.533333  0.210526  0.301887     38.0   15.0  0.375527\n",
            "Sitting       0.353448  0.299270  0.324111    137.0  116.0  0.559327\n",
            "Sleep         0.705882  0.230769  0.347826     52.0   17.0  0.344988\n",
            "Walk          0.347319  0.741294  0.473016    201.0  429.0  0.457079\n",
            "avg / total   0.372111  0.369382  0.314943    611.0  611.0  0.822476\n",
            "\n",
            "\n",
            "Training Features Shape: (4030, 4)\n",
            "Testing Features Shape: (712, 4)\n",
            "\n",
            "\n",
            "Accuracy: 0.4339887640449438\n",
            "             precision    recall  f1-score  support   pred       AUC\n",
            "Cooking       0.290323  0.346154  0.315789     26.0   31.0  0.838949\n",
            "Eat           0.363636  0.296296  0.326531     54.0   44.0  0.718099\n",
            "In computer   0.392857  0.426357  0.408922    129.0  140.0  0.710984\n",
            "Running       0.718750  0.605263  0.657143     38.0   32.0  0.483680\n",
            "Sitting       0.403846  0.459854  0.430034    137.0  156.0  0.494186\n",
            "Sleep         0.666667  0.615385  0.640000     52.0   48.0  0.348266\n",
            "Train         0.291667  0.304348  0.297872     23.0   24.0  0.529312\n",
            "Video games   0.200000  0.062500  0.095238     16.0    5.0  0.546336\n",
            "Walk          0.434579  0.462687  0.448193    201.0  214.0  0.505262\n",
            "Watching TV   0.555556  0.333333  0.416667     30.0   18.0  0.463978\n",
            "avg / total   0.434122  0.433989  0.430789    706.0  706.0  0.817250\n",
            "\n",
            "\n",
            "Training Features Shape: (4030, 4)\n",
            "Testing Features Shape: (712, 4)\n",
            "\n",
            "\n"
          ],
          "name": "stdout"
        },
        {
          "output_type": "stream",
          "text": [
            "/usr/local/lib/python3.6/dist-packages/sklearn/metrics/_classification.py:1272: UndefinedMetricWarning: Precision and F-score are ill-defined and being set to 0.0 in labels with no predicted samples. Use `zero_division` parameter to control this behavior.\n",
            "  _warn_prf(average, modifier, msg_start, len(result))\n",
            "/usr/local/lib/python3.6/dist-packages/sklearn/metrics/_classification.py:1272: UndefinedMetricWarning: Precision and F-score are ill-defined and being set to 0.0 in labels with no predicted samples. Use `zero_division` parameter to control this behavior.\n",
            "  _warn_prf(average, modifier, msg_start, len(result))\n"
          ],
          "name": "stderr"
        },
        {
          "output_type": "stream",
          "text": [
            "Accuracy: 0.5014044943820225\n",
            "             precision    recall  f1-score  support   pred       AUC\n",
            "Cooking       0.476190  0.384615  0.425532     26.0   21.0  0.898716\n",
            "Eat           0.407407  0.203704  0.271605     54.0   27.0  0.830646\n",
            "In computer   0.533333  0.496124  0.514056    129.0  120.0  0.821785\n",
            "Running       0.741935  0.605263  0.666667     38.0   31.0  0.436221\n",
            "Sitting       0.480620  0.452555  0.466165    137.0  129.0  0.507921\n",
            "Sleep         0.813953  0.673077  0.736842     52.0   43.0  0.194624\n",
            "Train         0.444444  0.347826  0.390244     23.0   18.0  0.594182\n",
            "Video games   0.400000  0.125000  0.190476     16.0    5.0  0.624192\n",
            "Walk          0.438944  0.661692  0.527778    201.0  303.0  0.534685\n",
            "Watching TV   0.600000  0.300000  0.400000     30.0   15.0  0.450073\n",
            "avg / total   0.508982  0.501404  0.491101    706.0  706.0  0.894969\n",
            "[0.24010366 0.25892068 0.24705899 0.25391667]\n",
            "\n",
            "\n",
            "Training Features Shape: (4030, 4)\n",
            "Testing Features Shape: (712, 4)\n",
            "\n",
            "\n",
            "Accuracy: 0.300561797752809\n",
            "             precision    recall  f1-score  support   pred       AUC\n",
            "In computer   0.259259  0.325581  0.288660    129.0  162.0  0.440252\n",
            "Running       0.520000  0.342105  0.412698     38.0   25.0  0.639817\n",
            "Sitting       0.273333  0.299270  0.285714    137.0  150.0  0.525852\n",
            "Walk          0.315508  0.587065  0.410435    201.0  374.0  0.554965\n",
            "Watching TV   0.000000  0.000000  0.000000     30.0    1.0  0.270772\n",
            "avg / total   0.216388  0.300562  0.245168    535.0  535.0  0.795197\n",
            "\n",
            "\n",
            "Training Features Shape: (4030, 4)\n",
            "Testing Features Shape: (712, 4)\n",
            "\n",
            "\n"
          ],
          "name": "stdout"
        },
        {
          "output_type": "stream",
          "text": [
            "/usr/local/lib/python3.6/dist-packages/sklearn/metrics/_classification.py:1272: UndefinedMetricWarning: Precision and F-score are ill-defined and being set to 0.0 in labels with no predicted samples. Use `zero_division` parameter to control this behavior.\n",
            "  _warn_prf(average, modifier, msg_start, len(result))\n",
            "/usr/local/lib/python3.6/dist-packages/sklearn/metrics/_classification.py:1272: UndefinedMetricWarning: Precision and F-score are ill-defined and being set to 0.0 in labels with no predicted samples. Use `zero_division` parameter to control this behavior.\n",
            "  _warn_prf(average, modifier, msg_start, len(result))\n"
          ],
          "name": "stderr"
        },
        {
          "output_type": "stream",
          "text": [
            "Accuracy: 0.2893258426966292\n",
            "             precision    recall  f1-score  support   pred       AUC\n",
            "Cooking       0.077778  0.269231  0.120690     26.0   90.0  0.690710\n",
            "Eat           0.750000  0.055556  0.103448     54.0    4.0  0.605651\n",
            "In computer   0.231481  0.193798  0.210970    129.0  108.0  0.579833\n",
            "Running       0.303030  0.263158  0.281690     38.0   33.0  0.205177\n",
            "Sitting       0.341176  0.211679  0.261261    137.0   85.0  0.494916\n",
            "Sleep         0.000000  0.000000  0.000000     52.0    7.0  0.407401\n",
            "Train         0.076923  0.043478  0.055556     23.0   13.0  0.595002\n",
            "Video games   0.000000  0.000000  0.000000     16.0    4.0  0.609914\n",
            "Walk          0.348901  0.631841  0.449558    201.0  364.0  0.537021\n",
            "Watching TV   1.000000  0.133333  0.235294     30.0    4.0  0.488148\n",
            "avg / total   0.326598  0.289326  0.254402    706.0  706.0  0.725043\n",
            "[0.24 0.28 0.24 0.24]\n",
            "\n",
            "\n",
            "Training Features Shape: (4030, 4)\n",
            "Testing Features Shape: (712, 4)\n",
            "\n",
            "\n"
          ],
          "name": "stdout"
        },
        {
          "output_type": "stream",
          "text": [
            "/usr/local/lib/python3.6/dist-packages/sklearn/metrics/_classification.py:1272: UndefinedMetricWarning: Precision and F-score are ill-defined and being set to 0.0 in labels with no predicted samples. Use `zero_division` parameter to control this behavior.\n",
            "  _warn_prf(average, modifier, msg_start, len(result))\n"
          ],
          "name": "stderr"
        },
        {
          "output_type": "stream",
          "text": [
            "Accuracy: 0.14325842696629212\n",
            "                                      precision    recall  ...   pred       AUC\n",
            "Cooking                                0.238095  0.384615  ...   42.0  0.722247\n",
            "Eat                                    0.147727  0.240741  ...   88.0  0.682089\n",
            "In computer                            0.250000  0.007752  ...    4.0  0.626444\n",
            "Phone was out of the pocket (forgot)   0.015306  0.500000  ...  196.0  0.704910\n",
            "Running                                0.568182  0.657895  ...   44.0  0.880056\n",
            "Sitting                                0.000000  0.000000  ...    1.0  0.574586\n",
            "Sleep                                  0.307692  0.384615  ...   65.0  0.715618\n",
            "Train                                  0.049180  0.130435  ...   61.0  0.667508\n",
            "Video games                            0.072072  0.500000  ...  111.0  0.701239\n",
            "Walk                                   0.521739  0.059701  ...   23.0  0.620391\n",
            "Watching TV                            0.090909  0.233333  ...   77.0  0.752933\n",
            "avg / total                            0.272446  0.143258  ...  712.0  0.810133\n",
            "\n",
            "[12 rows x 6 columns]\n",
            "\n",
            "\n",
            "          Method  Accuracy\n",
            "0            MLP  0.369382\n",
            "1        K-neigh  0.433989\n",
            "2  Random Forest  0.501404\n",
            "3          Bayes  0.300562\n",
            "4       AdaBoost  0.289326\n",
            "5            SVM  0.143258\n"
          ],
          "name": "stdout"
        }
      ]
    }
  ]
}