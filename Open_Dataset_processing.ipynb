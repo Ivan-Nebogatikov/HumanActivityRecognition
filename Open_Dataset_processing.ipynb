{
  "nbformat": 4,
  "nbformat_minor": 0,
  "metadata": {
    "colab": {
      "name": "Open Dataset processing.ipynb",
      "provenance": [],
      "collapsed_sections": [],
      "authorship_tag": "ABX9TyN0y2lnbd86Bu8A0GCfLyub",
      "include_colab_link": true
    },
    "kernelspec": {
      "name": "python3",
      "display_name": "Python 3"
    }
  },
  "cells": [
    {
      "cell_type": "markdown",
      "metadata": {
        "id": "view-in-github",
        "colab_type": "text"
      },
      "source": [
        "<a href=\"https://colab.research.google.com/github/Ivan-Nebogatikov/HumanActivityRecognition/blob/master/Open_Dataset_processing.ipynb\" target=\"_parent\"><img src=\"https://colab.research.google.com/assets/colab-badge.svg\" alt=\"Open In Colab\"/></a>"
      ]
    },
    {
      "cell_type": "markdown",
      "metadata": {
        "id": "U10qHmP5MCQf",
        "colab_type": "text"
      },
      "source": [
        "Create frames"
      ]
    },
    {
      "cell_type": "code",
      "metadata": {
        "id": "DHdNGvyRK_6C",
        "colab_type": "code",
        "colab": {}
      },
      "source": [
        "import numpy as np\n",
        "import pandas as pd\n",
        "import json\n",
        "from datetime import datetime\n",
        "from datetime import date\n",
        "\n",
        "def getValue(x):\n",
        "    l = list(json.loads(x.replace('\\'', '\"')))\n",
        "    return l\n",
        "\n",
        "def getDiff(x):\n",
        "    res = list()\n",
        "    for i, v in enumerate(x):\n",
        "        res.append(v)\n",
        "        #if i > 0:\n",
        "        #    res.append(v - x[i - 1])\n",
        "        #else:\n",
        "        #    res.append(0)\n",
        "    return res\n",
        "\n",
        "heart = pd.read_csv('https://raw.githubusercontent.com/Ivan-Nebogatikov/HumanActivityRecognition/master/datasets/2282_3888_bundle_archive/heart.csv')\n",
        "heart['timestamp'] = heart['timestamp'].map(lambda x: datetime.strptime(x, \"%Y-%m-%d %H:%M:%S.%f\"))\n",
        "heart = heart.sort_values(by='timestamp')\n",
        "\n",
        "def getHeart(x):\n",
        "    dt = datetime.strptime(x, \"%Y-%m-%d %H:%M:%S.%f\")\n",
        "    f = heart[heart['timestamp'] < dt]\n",
        "    lastValue = f.iloc[[-1]]['values'].tolist()[0]\n",
        "    intValue = list(json.loads(lastValue.replace('\\'', '\"')))[0]\n",
        "    return intValue\n",
        "\n",
        "acc = pd.read_csv('https://raw.githubusercontent.com/Ivan-Nebogatikov/HumanActivityRecognition/master/datasets/2282_3888_bundle_archive/acc.csv')\n",
        "acc['heart'] = acc['timestamp'].map(lambda x: getHeart(x))\n",
        "\n",
        "def change(x):\n",
        "    if x == 'Pause' or x == 'Movie':\n",
        "        x = 'Watching TV'\n",
        "    if x == 'Shop':\n",
        "        x = 'Walk'\n",
        "    if x == 'Football':\n",
        "        x = 'Running'\n",
        "    if x == 'Meeting' or x == 'Work' or x == 'Picnic ' or x == 'In vehicle' or x == 'In bus' :\n",
        "        x = 'Sitting'\n",
        "    if x == 'On bus stop':\n",
        "        x = 'Walk'\n",
        "    if x == 'Walking&party' or x == 'Shopping& wearing' or x == 'At home':\n",
        "        x = 'Walk'\n",
        "    return x\n",
        "acc['act'] = acc['act'].map(lambda x: change(x))\n",
        "\n",
        "labels = np.array(acc['act'])\n",
        "\n",
        "arrays = acc['values'].map(lambda x: getValue(x))\n",
        "x = getDiff(list(arrays.map(lambda x: np.double(x[0]))))\n",
        "y = getDiff(list(arrays.map(lambda x: np.double(x[1]))))\n",
        "z = getDiff(list(arrays.map(lambda x: np.double(x[2]))))\n"
      ],
      "execution_count": 36,
      "outputs": []
    },
    {
      "cell_type": "markdown",
      "metadata": {
        "id": "3Ea-wIjMMrP2",
        "colab_type": "text"
      },
      "source": [
        "Define a function to predict activity with random forest"
      ]
    },
    {
      "cell_type": "code",
      "metadata": {
        "id": "YGaczMp0LBbX",
        "colab_type": "code",
        "colab": {}
      },
      "source": [
        "from sklearn.metrics import accuracy_score\n",
        "from sklearn.metrics import classification_report\n",
        "from sklearn.metrics import roc_auc_score\n",
        "from sklearn import metrics\n",
        "from sklearn.ensemble import RandomForestClassifier\n",
        "from sklearn.model_selection import train_test_split\n",
        "\n",
        "def Predict(x):\n",
        "    train_features, test_features, train_labels, test_labels = train_test_split(x, labels, test_size = 0.15, random_state = 242)\n",
        "    print('Training Features Shape:', train_features.shape)\n",
        "    print('Testing Features Shape:', test_features.shape)\n",
        "    print(\"\\n\")\n",
        "\n",
        "    rf = RandomForestClassifier(n_estimators = 400, random_state = 3, class_weight='balanced') # Классификатор с 100 деревьями\n",
        "    rf.fit(train_features, train_labels);\n",
        "\n",
        "    predictions = list(rf.predict(test_features))\n",
        "    pred_prob = rf.predict_proba(test_features)\n",
        "\n",
        "    class_report(\n",
        "        y_true=test_labels, \n",
        "        y_pred=np.asarray(predictions), \n",
        "        y_score=pred_prob, average='micro')\n",
        "\n",
        "    print(rf.feature_importances_)"
      ],
      "execution_count": 30,
      "outputs": []
    },
    {
      "cell_type": "markdown",
      "metadata": {
        "id": "KLcdqDi2M5-M",
        "colab_type": "text"
      },
      "source": [
        "Predict with heart data"
      ]
    },
    {
      "cell_type": "code",
      "metadata": {
        "id": "SjGEh7FeNcrN",
        "colab_type": "code",
        "colab": {
          "base_uri": "https://localhost:8080/",
          "height": 612
        },
        "outputId": "85c83474-22c8-4c64-d5f5-ab923be002be"
      },
      "source": [
        "frame = pd.DataFrame(list(acc['heart']), columns=['h'])\n",
        "feature_list = list(frame.columns)\n",
        "print(frame)\n",
        "Predict(frame)"
      ],
      "execution_count": 39,
      "outputs": [
        {
          "output_type": "stream",
          "text": [
            "         h\n",
            "0     79.0\n",
            "1     76.0\n",
            "2     72.0\n",
            "3     71.0\n",
            "4     71.0\n",
            "...    ...\n",
            "4737  73.0\n",
            "4738  70.0\n",
            "4739  72.0\n",
            "4740  73.0\n",
            "4741  72.0\n",
            "\n",
            "[4742 rows x 1 columns]\n",
            "Training Features Shape: (4030, 1)\n",
            "Testing Features Shape: (712, 1)\n",
            "\n",
            "\n",
            "Accuracy: 0.14747191011235955\n",
            "                                      precision    recall  ...   pred       AUC\n",
            "Cooking                                0.171429  0.230769  ...   35.0  0.750000\n",
            "Eat                                    0.189189  0.259259  ...   74.0  0.683665\n",
            "In computer                            0.250000  0.093023  ...   48.0  0.565559\n",
            "Phone was out of the pocket (forgot)   0.019868  0.500000  ...  151.0  0.691572\n",
            "Running                                0.594595  0.578947  ...   37.0  0.879178\n",
            "Sitting                                0.290323  0.065693  ...   31.0  0.593627\n",
            "Sleep                                  0.265823  0.403846  ...   79.0  0.693415\n",
            "Train                                  0.064935  0.217391  ...   77.0  0.639364\n",
            "Video games                            0.000000  0.000000  ...   64.0  0.607804\n",
            "Walk                                   0.800000  0.019900  ...    5.0  0.542663\n",
            "Watching TV                            0.081081  0.300000  ...  111.0  0.609922\n",
            "avg / total                            0.404438  0.147472  ...  712.0  0.665716\n",
            "\n",
            "[12 rows x 6 columns]\n",
            "[1.]\n"
          ],
          "name": "stdout"
        }
      ]
    },
    {
      "cell_type": "markdown",
      "metadata": {
        "id": "RrKArjHXM8yO",
        "colab_type": "text"
      },
      "source": [
        "Predict with accelerometer"
      ]
    },
    {
      "cell_type": "code",
      "metadata": {
        "id": "T0WIeNm9NEdd",
        "colab_type": "code",
        "colab": {
          "base_uri": "https://localhost:8080/",
          "height": 612
        },
        "outputId": "ea9d5c5e-c83a-4a60-d93f-7f0e55771e9a"
      },
      "source": [
        "frame = pd.DataFrame(zip(x, y, z), columns=['x', 'y', 'z'])\n",
        "feature_list = list(frame.columns)\n",
        "print(frame)\n",
        "Predict(frame)"
      ],
      "execution_count": 31,
      "outputs": [
        {
          "output_type": "stream",
          "text": [
            "              x          y         z\n",
            "0    -10.173126  -1.471237  1.924393\n",
            "1      4.726227 -10.251968  0.491104\n",
            "2    -10.776581  -0.819656 -0.581741\n",
            "3    -10.300018  -1.300781  0.812164\n",
            "4     -8.121658  -0.150238 -0.705032\n",
            "...         ...        ...       ...\n",
            "4737  -9.694046  -1.125046  2.037765\n",
            "4738 -10.787354  -2.289215  1.636612\n",
            "4739  -4.396042  -7.009506  2.160950\n",
            "4740  -9.635635   1.458542 -0.267487\n",
            "4741  -5.556152  -7.290588 -2.863174\n",
            "\n",
            "[4742 rows x 3 columns]\n",
            "Training Features Shape: (4030, 3)\n",
            "Testing Features Shape: (712, 3)\n",
            "\n",
            "\n",
            "Accuracy: 0.42837078651685395\n",
            "                                      precision    recall  ...   pred       AUC\n",
            "Cooking                                0.250000  0.115385  ...   12.0  0.792779\n",
            "Eat                                    0.393939  0.240741  ...   33.0  0.780057\n",
            "In computer                            0.457364  0.457364  ...  129.0  0.770287\n",
            "Phone was out of the pocket (forgot)   0.000000  0.000000  ...    1.0  0.713645\n",
            "Running                                0.357143  0.131579  ...   14.0  0.815145\n",
            "Sitting                                0.414062  0.386861  ...  128.0  0.720457\n",
            "Sleep                                  0.822222  0.711538  ...   45.0  0.911407\n",
            "Train                                  0.380952  0.347826  ...   21.0  0.799205\n",
            "Video games                            0.384615  0.312500  ...   13.0  0.771417\n",
            "Walk                                   0.374172  0.562189  ...  302.0  0.678598\n",
            "Watching TV                            0.642857  0.300000  ...   14.0  0.869282\n",
            "avg / total                            0.434321  0.428371  ...  712.0  0.860126\n",
            "\n",
            "[12 rows x 6 columns]\n",
            "[0.33787224 0.3259184  0.33620936]\n"
          ],
          "name": "stdout"
        }
      ]
    },
    {
      "cell_type": "markdown",
      "metadata": {
        "id": "lKw1FXFcM_TP",
        "colab_type": "text"
      },
      "source": [
        "Predict with both sensors"
      ]
    },
    {
      "cell_type": "code",
      "metadata": {
        "id": "VckUJfacPhAG",
        "colab_type": "code",
        "colab": {
          "base_uri": "https://localhost:8080/",
          "height": 615
        },
        "outputId": "c89bbb0f-984e-4044-e9d2-38e5622e5fd8"
      },
      "source": [
        "frame = pd.DataFrame(zip(list(acc['heart']), x, y, z), columns=['h', 'x', 'y', 'z'])\n",
        "feature_list = list(frame.columns)\n",
        "print(frame)\n",
        "Predict(frame)"
      ],
      "execution_count": 40,
      "outputs": [
        {
          "output_type": "stream",
          "text": [
            "         h          x          y         z\n",
            "0     79.0 -10.173126  -1.471237  1.924393\n",
            "1     76.0   4.726227 -10.251968  0.491104\n",
            "2     72.0 -10.776581  -0.819656 -0.581741\n",
            "3     71.0 -10.300018  -1.300781  0.812164\n",
            "4     71.0  -8.121658  -0.150238 -0.705032\n",
            "...    ...        ...        ...       ...\n",
            "4737  73.0  -9.694046  -1.125046  2.037765\n",
            "4738  70.0 -10.787354  -2.289215  1.636612\n",
            "4739  72.0  -4.396042  -7.009506  2.160950\n",
            "4740  73.0  -9.635635   1.458542 -0.267487\n",
            "4741  72.0  -5.556152  -7.290588 -2.863174\n",
            "\n",
            "[4742 rows x 4 columns]\n",
            "Training Features Shape: (4030, 4)\n",
            "Testing Features Shape: (712, 4)\n",
            "\n",
            "\n",
            "Accuracy: 0.5014044943820225\n",
            "             precision    recall  f1-score  support   pred       AUC\n",
            "Cooking       0.476190  0.384615  0.425532     26.0   21.0  0.898716\n",
            "Eat           0.407407  0.203704  0.271605     54.0   27.0  0.830646\n",
            "In computer   0.533333  0.496124  0.514056    129.0  120.0  0.821785\n",
            "Running       0.741935  0.605263  0.666667     38.0   31.0  0.436221\n",
            "Sitting       0.480620  0.452555  0.466165    137.0  129.0  0.507921\n",
            "Sleep         0.813953  0.673077  0.736842     52.0   43.0  0.194624\n",
            "Train         0.444444  0.347826  0.390244     23.0   18.0  0.594182\n",
            "Video games   0.400000  0.125000  0.190476     16.0    5.0  0.624192\n",
            "Walk          0.438944  0.661692  0.527778    201.0  303.0  0.534685\n",
            "Watching TV   0.600000  0.300000  0.400000     30.0   15.0  0.450073\n",
            "avg / total   0.508982  0.501404  0.491101    706.0  706.0  0.894969\n",
            "[0.24010366 0.25892068 0.24705899 0.25391667]\n"
          ],
          "name": "stdout"
        },
        {
          "output_type": "stream",
          "text": [
            "/usr/local/lib/python3.6/dist-packages/sklearn/metrics/_classification.py:1272: UndefinedMetricWarning: Precision and F-score are ill-defined and being set to 0.0 in labels with no predicted samples. Use `zero_division` parameter to control this behavior.\n",
            "  _warn_prf(average, modifier, msg_start, len(result))\n"
          ],
          "name": "stderr"
        }
      ]
    }
  ]
}