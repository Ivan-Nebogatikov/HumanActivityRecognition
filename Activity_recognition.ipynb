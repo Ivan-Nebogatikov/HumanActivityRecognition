{
  "nbformat": 4,
  "nbformat_minor": 0,
  "metadata": {
    "colab": {
      "name": "Activity recognition",
      "provenance": [],
      "collapsed_sections": [],
      "include_colab_link": true
    },
    "kernelspec": {
      "display_name": "Python 3",
      "name": "python3"
    }
  },
  "cells": [
    {
      "cell_type": "markdown",
      "metadata": {
        "id": "view-in-github",
        "colab_type": "text"
      },
      "source": [
        "<a href=\"https://colab.research.google.com/github/Ivan-Nebogatikov/HumanActivityRecognition/blob/master/Activity_recognition.ipynb\" target=\"_parent\"><img src=\"https://colab.research.google.com/assets/colab-badge.svg\" alt=\"Open In Colab\"/></a>"
      ]
    },
    {
      "cell_type": "code",
      "metadata": {
        "id": "0CT1N3WYqAqm",
        "colab_type": "code",
        "outputId": "89af06b4-153c-4b5e-f4c7-a944a90c4072",
        "colab": {
          "base_uri": "https://localhost:8080/",
          "height": 331
        }
      },
      "source": [
        "import pandas as pd\n",
        "\n",
        "features = pd.read_csv('/final_ecg_data.csv')\n",
        "features = features[features['ECG'] > 0.]\n",
        "activities = list(sorted(set(features['activity'])))\n",
        "print(\"Activities:\", activities)\n",
        "#features['activity'] = list(map(lambda x: activities.index(x), features['activity']))\n",
        "#features = features[features['activity'] != 3]\n",
        "#features = features[features['activity'] != 4]\n",
        "#print(features.head(5)) \n",
        "print('The shape of our features is:', features.shape)\n",
        "\n",
        "features.describe()"
      ],
      "execution_count": 0,
      "outputs": [
        {
          "output_type": "stream",
          "text": [
            "Activities: ['down the stairs', 'inactive', 'run', 'up the stairs', 'walk']\n",
            "The shape of our features is: (128694, 2)\n"
          ],
          "name": "stdout"
        },
        {
          "output_type": "execute_result",
          "data": {
            "text/html": [
              "<div>\n",
              "<style scoped>\n",
              "    .dataframe tbody tr th:only-of-type {\n",
              "        vertical-align: middle;\n",
              "    }\n",
              "\n",
              "    .dataframe tbody tr th {\n",
              "        vertical-align: top;\n",
              "    }\n",
              "\n",
              "    .dataframe thead th {\n",
              "        text-align: right;\n",
              "    }\n",
              "</style>\n",
              "<table border=\"1\" class=\"dataframe\">\n",
              "  <thead>\n",
              "    <tr style=\"text-align: right;\">\n",
              "      <th></th>\n",
              "      <th>ECG</th>\n",
              "    </tr>\n",
              "  </thead>\n",
              "  <tbody>\n",
              "    <tr>\n",
              "      <th>count</th>\n",
              "      <td>128694.000000</td>\n",
              "    </tr>\n",
              "    <tr>\n",
              "      <th>mean</th>\n",
              "      <td>0.055353</td>\n",
              "    </tr>\n",
              "    <tr>\n",
              "      <th>std</th>\n",
              "      <td>0.038701</td>\n",
              "    </tr>\n",
              "    <tr>\n",
              "      <th>min</th>\n",
              "      <td>0.000031</td>\n",
              "    </tr>\n",
              "    <tr>\n",
              "      <th>25%</th>\n",
              "      <td>0.031952</td>\n",
              "    </tr>\n",
              "    <tr>\n",
              "      <th>50%</th>\n",
              "      <td>0.043823</td>\n",
              "    </tr>\n",
              "    <tr>\n",
              "      <th>75%</th>\n",
              "      <td>0.078003</td>\n",
              "    </tr>\n",
              "    <tr>\n",
              "      <th>max</th>\n",
              "      <td>0.124969</td>\n",
              "    </tr>\n",
              "  </tbody>\n",
              "</table>\n",
              "</div>"
            ],
            "text/plain": [
              "                 ECG\n",
              "count  128694.000000\n",
              "mean        0.055353\n",
              "std         0.038701\n",
              "min         0.000031\n",
              "25%         0.031952\n",
              "50%         0.043823\n",
              "75%         0.078003\n",
              "max         0.124969"
            ]
          },
          "metadata": {
            "tags": []
          },
          "execution_count": 2
        }
      ]
    },
    {
      "cell_type": "code",
      "metadata": {
        "id": "DFfsldsJq8s_",
        "colab_type": "code",
        "colab": {}
      },
      "source": [
        "import numpy as np\n",
        "labels = np.array(features['activity']) # значения, которые надо будет предсказывать\n",
        "features= features.drop('activity', axis = 1)\n",
        "feature_list = list(features.columns)\n",
        "features = np.array(features)"
      ],
      "execution_count": 0,
      "outputs": []
    },
    {
      "cell_type": "code",
      "metadata": {
        "id": "kL33wB4fP_cQ",
        "colab_type": "code",
        "colab": {}
      },
      "source": [
        "Разделяем на обучающую (85%) и тестовую (15%) выборки"
      ],
      "execution_count": 0,
      "outputs": []
    },
    {
      "cell_type": "code",
      "metadata": {
        "id": "M7aQurwHrP21",
        "colab_type": "code",
        "outputId": "d4afaaec-14ad-44dd-af4d-ba3504c7557a",
        "colab": {
          "base_uri": "https://localhost:8080/",
          "height": 51
        }
      },
      "source": [
        "from sklearn.model_selection import train_test_split\n",
        "train_features, test_features, train_labels, test_labels = train_test_split(features, labels, test_size = 0.15, random_state = 242)\n",
        "print('Training Features Shape:', train_features.shape)\n",
        "print('Testing Features Shape:', test_features.shape)"
      ],
      "execution_count": 0,
      "outputs": [
        {
          "output_type": "stream",
          "text": [
            "Training Features Shape: (109389, 1)\n",
            "Testing Features Shape: (19305, 1)\n"
          ],
          "name": "stdout"
        }
      ]
    },
    {
      "cell_type": "markdown",
      "metadata": {
        "id": "_oyIIitbBHVT",
        "colab_type": "text"
      },
      "source": [
        "Строим случайный лес"
      ]
    },
    {
      "cell_type": "code",
      "metadata": {
        "id": "ZRjrbpcXrWBT",
        "colab_type": "code",
        "colab": {}
      },
      "source": [
        "from sklearn.ensemble import RandomForestClassifier\n",
        "rf = RandomForestClassifier(n_estimators = 100, random_state = 1) # Классификатор с 100 деревьями\n",
        "rf.fit(train_features, train_labels);"
      ],
      "execution_count": 0,
      "outputs": []
    },
    {
      "cell_type": "markdown",
      "metadata": {
        "id": "ZMmFtqIMPfji",
        "colab_type": "text"
      },
      "source": [
        "\n",
        "Вспомогательная функция для построения таблицы с AUC"
      ]
    },
    {
      "cell_type": "code",
      "metadata": {
        "id": "1TfTT2qYTZbu",
        "colab_type": "code",
        "colab": {}
      },
      "source": [
        "import pandas as pd\n",
        "import numpy as np\n",
        "from scipy import interp\n",
        "\n",
        "from sklearn.metrics import accuracy_score\n",
        "from sklearn.metrics import precision_recall_fscore_support\n",
        "from sklearn.metrics import roc_curve, auc\n",
        "from sklearn.preprocessing import LabelBinarizer\n",
        "\n",
        "def class_report(y_true, y_pred, y_score=None, average='micro'):\n",
        "    if y_true.shape != y_pred.shape:\n",
        "        print(\"Error! y_true %s is not the same shape as y_pred %s\" % (\n",
        "              y_true.shape,\n",
        "              y_pred.shape)\n",
        "        )\n",
        "        return\n",
        "\n",
        "    print(\"Accuracy:\", accuracy_score(y_true, y_pred))\n",
        "\n",
        "    lb = LabelBinarizer()\n",
        "\n",
        "    if len(y_true.shape) == 1:\n",
        "        lb.fit(y_true)\n",
        "\n",
        "    #Value counts of predictions\n",
        "    labels, cnt = np.unique(\n",
        "        y_pred,\n",
        "        return_counts=True)\n",
        "    n_classes = 5\n",
        "    pred_cnt = pd.Series(cnt, index=labels)\n",
        "\n",
        "    metrics_summary = precision_recall_fscore_support(\n",
        "            y_true=y_true,\n",
        "            y_pred=y_pred,\n",
        "            labels=labels)\n",
        "\n",
        "    avg = list(precision_recall_fscore_support(\n",
        "            y_true=y_true, \n",
        "            y_pred=y_pred,\n",
        "            average='weighted'))\n",
        "\n",
        "    metrics_sum_index = ['precision', 'recall', 'f1-score', 'support']\n",
        "    class_report_df = pd.DataFrame(\n",
        "        list(metrics_summary),\n",
        "        index=metrics_sum_index,\n",
        "        columns=labels)\n",
        "\n",
        "    support = class_report_df.loc['support']\n",
        "    total = support.sum() \n",
        "    class_report_df['avg / total'] = avg[:-1] + [total]\n",
        "\n",
        "    class_report_df = class_report_df.T\n",
        "    class_report_df['pred'] = pred_cnt\n",
        "    class_report_df['pred'].iloc[-1] = total\n",
        "\n",
        "    if not (y_score is None):\n",
        "        fpr = dict()\n",
        "        tpr = dict()\n",
        "        roc_auc = dict()\n",
        "        for label_it, label in enumerate(labels):\n",
        "            fpr[label], tpr[label], _ = roc_curve(\n",
        "                (y_true == label).astype(int), \n",
        "                y_score[:, label_it])\n",
        "\n",
        "            roc_auc[label] = auc(fpr[label], tpr[label])\n",
        "\n",
        "        if average == 'micro':\n",
        "            if n_classes <= 2:\n",
        "                fpr[\"avg / total\"], tpr[\"avg / total\"], _ = roc_curve(\n",
        "                    lb.transform(y_true).ravel(), \n",
        "                    y_score[:, 1].ravel())\n",
        "            else:\n",
        "                fpr[\"avg / total\"], tpr[\"avg / total\"], _ = roc_curve(\n",
        "                        lb.transform(y_true).ravel(), \n",
        "                        y_score.ravel())\n",
        "\n",
        "            roc_auc[\"avg / total\"] = auc(\n",
        "                fpr[\"avg / total\"], \n",
        "                tpr[\"avg / total\"])\n",
        "\n",
        "        elif average == 'macro':\n",
        "            # First aggregate all false positive rates\n",
        "            all_fpr = np.unique(np.concatenate([\n",
        "                fpr[i] for i in labels]\n",
        "            ))\n",
        "\n",
        "            # Then interpolate all ROC curves at this points\n",
        "            mean_tpr = np.zeros_like(all_fpr)\n",
        "            for i in labels:\n",
        "                mean_tpr += interp(all_fpr, fpr[i], tpr[i])\n",
        "\n",
        "            # Finally average it and compute AUC\n",
        "            mean_tpr /= n_classes\n",
        "\n",
        "            fpr[\"macro\"] = all_fpr\n",
        "            tpr[\"macro\"] = mean_tpr\n",
        "\n",
        "            roc_auc[\"avg / total\"] = auc(fpr[\"macro\"], tpr[\"macro\"])\n",
        "\n",
        "        class_report_df['AUC'] = pd.Series(roc_auc)\n",
        "\n",
        "    print(class_report_df)"
      ],
      "execution_count": 0,
      "outputs": []
    },
    {
      "cell_type": "markdown",
      "metadata": {
        "id": "3KcYDGvLQqP7",
        "colab_type": "text"
      },
      "source": [
        "Проверка на тестовых данных. "
      ]
    },
    {
      "cell_type": "code",
      "metadata": {
        "colab_type": "code",
        "id": "viOLYP7qBpPZ",
        "outputId": "1dd9e724-7940-45db-9f35-6f65fd81b795",
        "colab": {
          "base_uri": "https://localhost:8080/",
          "height": 153
        }
      },
      "source": [
        "from sklearn.metrics import accuracy_score\n",
        "from sklearn.metrics import classification_report\n",
        "from sklearn.metrics import roc_auc_score\n",
        "from sklearn import metrics\n",
        "\n",
        "predictions = list(rf.predict(test_features))\n",
        "pred_prob = rf.predict_proba(test_features)\n",
        "\n",
        "class_report(\n",
        "    y_true=test_labels, \n",
        "    y_pred=np.asarray(predictions), \n",
        "    y_score=pred_prob, average='micro')"
      ],
      "execution_count": 0,
      "outputs": [
        {
          "output_type": "stream",
          "text": [
            "Accuracy: 0.4384874384874385\n",
            "                 precision    recall  f1-score  support     pred       AUC\n",
            "down the stairs   0.161919  0.043165  0.068160   2502.0    667.0  0.564738\n",
            "inactive          0.487542  0.725139  0.583064   1619.0   2408.0  0.926043\n",
            "run               0.599251  0.622252  0.610535   5914.0   6141.0  0.771685\n",
            "up the stairs     0.243863  0.124219  0.164596   3679.0   1874.0  0.595384\n",
            "walk              0.370785  0.544804  0.441257   5591.0   8215.0  0.624040\n",
            "avg / total       0.399309  0.438487  0.403929  19305.0  19305.0  0.751006\n"
          ],
          "name": "stdout"
        }
      ]
    },
    {
      "cell_type": "markdown",
      "metadata": {
        "id": "k1SgPxyGBIbs",
        "colab_type": "text"
      },
      "source": [
        "Хуже всего распознаются движения вверх/вниз по лестнице.\n",
        "\n",
        "\n",
        "Неактивность выделяется лучше, чем ходьба или бег, если рассматривать график крифой ошибок (AUC).\n",
        "\n",
        "---\n",
        "\n",
        "Попробуем Метод опорных векторов для сравнения"
      ]
    },
    {
      "cell_type": "code",
      "metadata": {
        "id": "3H3__XBdA6jO",
        "colab_type": "code",
        "outputId": "4ba3a7ee-ac12-491d-fb71-dc08919f6ffc",
        "colab": {
          "base_uri": "https://localhost:8080/",
          "height": 85
        }
      },
      "source": [
        "from sklearn import svm\n",
        "clf = svm.SVC(probability=True, class_weight='balanced')\n",
        "clf.fit(train_features, train_labels)"
      ],
      "execution_count": 0,
      "outputs": [
        {
          "output_type": "execute_result",
          "data": {
            "text/plain": [
              "SVC(C=1.0, break_ties=False, cache_size=200, class_weight='balanced', coef0=0.0,\n",
              "    decision_function_shape='ovr', degree=3, gamma='scale', kernel='rbf',\n",
              "    max_iter=-1, probability=True, random_state=None, shrinking=True, tol=0.001,\n",
              "    verbose=False)"
            ]
          },
          "metadata": {
            "tags": []
          },
          "execution_count": 31
        }
      ]
    },
    {
      "cell_type": "code",
      "metadata": {
        "id": "slTMeYvwBDJ6",
        "colab_type": "code",
        "outputId": "b2db2595-4255-40e4-f619-59c533f18987",
        "colab": {
          "base_uri": "https://localhost:8080/",
          "height": 153
        }
      },
      "source": [
        "predictions_svm = list(clf.predict(test_features))\n",
        "pred_prob_svm = clf.predict_proba(test_features)\n",
        "\n",
        "class_report(\n",
        "    y_true=test_labels, \n",
        "    y_pred=np.asarray(predictions_svm), \n",
        "    y_score=pred_prob_svm, average='micro')"
      ],
      "execution_count": 0,
      "outputs": [
        {
          "output_type": "stream",
          "text": [
            "Accuracy: 0.38694638694638694\n",
            "                 precision    recall  f1-score  support     pred       AUC\n",
            "down the stairs   0.160682  0.143086  0.151374   2502.0   2228.0  0.609572\n",
            "inactive          0.268873  0.963558  0.420429   1619.0   5802.0  0.930411\n",
            "run               0.639908  0.610585  0.624903   5914.0   5643.0  0.789139\n",
            "up the stairs     0.265470  0.152759  0.193927   3679.0   2117.0  0.614261\n",
            "walk              0.392319  0.246646  0.302877   5591.0   3515.0  0.636381\n",
            "avg / total       0.403619  0.386946  0.370988  19305.0  19305.0  0.764253\n"
          ],
          "name": "stdout"
        }
      ]
    },
    {
      "cell_type": "code",
      "metadata": {
        "id": "AMmHNvcWFPZY",
        "colab_type": "code",
        "colab": {}
      },
      "source": [
        "Точность в категории inactive, значительно ниже, чем в случайном лесе.\n",
        "\n",
        "Из-за возможной зашумленности данных и неравномерности выборки: значений подъема/спуска по лестнице, разделение плоскостями работает хуже."
      ],
      "execution_count": 0,
      "outputs": []
    }
  ]
}