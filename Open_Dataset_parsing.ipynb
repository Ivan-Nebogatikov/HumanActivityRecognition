{
  "nbformat": 4,
  "nbformat_minor": 0,
  "metadata": {
    "colab": {
      "name": "Open Dataset parsing.ipynb",
      "provenance": [],
      "collapsed_sections": [],
      "authorship_tag": "ABX9TyNG/Rji9Lf5xIqG0BRx0FkK",
      "include_colab_link": true
    },
    "kernelspec": {
      "name": "python3",
      "display_name": "Python 3"
    }
  },
  "cells": [
    {
      "cell_type": "markdown",
      "metadata": {
        "id": "view-in-github",
        "colab_type": "text"
      },
      "source": [
        "<a href=\"https://colab.research.google.com/github/Ivan-Nebogatikov/HumanActivityRecognition/blob/master/Open_Dataset_parsing.ipynb\" target=\"_parent\"><img src=\"https://colab.research.google.com/assets/colab-badge.svg\" alt=\"Open In Colab\"/></a>"
      ]
    },
    {
      "cell_type": "markdown",
      "metadata": {
        "id": "W36RWrmhKTPT",
        "colab_type": "text"
      },
      "source": [
        "Some code to convert data to heartrate and accelerometer "
      ]
    },
    {
      "cell_type": "code",
      "metadata": {
        "id": "971XNVnLnAc0",
        "colab_type": "code",
        "colab": {
          "base_uri": "https://localhost:8080/",
          "height": 340
        },
        "outputId": "ffed0d0d-61a9-4940-cc61-c6f19781c59b"
      },
      "source": [
        "import pandas as pd\n",
        "from datetime import datetime\n",
        "from datetime import date\n",
        "\n",
        "report = pd.read_csv('/report.csv')\n",
        "report['from'] = report['from'].map(lambda x: datetime.strptime(x, \"%Y-%m-%d %H:%M\"))\n",
        "report['to'] = report['to'].map(lambda x: datetime.strptime(x, \"%Y-%m-%d %H:%M\"))\n",
        "smartwatch = pd.read_csv('/smartwatch.csv')\n",
        "acc = smartwatch[smartwatch['source'] == 'accelerometer']\n",
        "print(acc.head())\n",
        "def getAct(x):\n",
        "    dt = datetime.strptime(x, \"%Y-%m-%d %H:%M:%S.%f\")\n",
        "    for index, row in report.iterrows():\n",
        "        if row['from'] <= dt and dt <= row['to']:\n",
        "            return row['activity_type']\n",
        "    return None\n",
        "heart = smartwatch[smartwatch['source'] == 'heart_rate']\n",
        "heart['act'] = heart['timestamp'].map(lambda x: getAct(x))\n",
        "print(heart.head())"
      ],
      "execution_count": null,
      "outputs": [
        {
          "output_type": "stream",
          "text": [
            "     index  ...                                     values\n",
            "1   164350  ...   ['-0.3440857', '0.68330383', '9.967361']\n",
            "10  164359  ...    ['-0.4410553', '0.7886505', '9.872787']\n",
            "22  164371  ...     ['0.2496643', '1.4255066', '9.832092']\n",
            "34  164383  ...    ['1.0840454', '0.52648926', '9.967361']\n",
            "46  164395  ...  ['-1.2897949', '-0.83462524', '9.338882']\n",
            "\n",
            "[5 rows x 4 columns]\n",
            "     index      source                timestamp          values   act\n",
            "9   164358  heart_rate  2017-06-29 07:46:05.590  ['173.0', '0']  None\n",
            "16  164365  heart_rate  2017-06-29 07:46:06.590  ['172.0', '1']  None\n",
            "19  164368  heart_rate  2017-06-29 07:46:07.589  ['171.0', '1']  None\n",
            "20  164369  heart_rate  2017-06-29 07:46:09.587  ['170.0', '1']  None\n",
            "21  164370  heart_rate  2017-06-29 07:46:10.588  ['169.0', '1']  None\n"
          ],
          "name": "stdout"
        },
        {
          "output_type": "stream",
          "text": [
            "/usr/local/lib/python3.6/dist-packages/ipykernel_launcher.py:18: SettingWithCopyWarning: \n",
            "A value is trying to be set on a copy of a slice from a DataFrame.\n",
            "Try using .loc[row_indexer,col_indexer] = value instead\n",
            "\n",
            "See the caveats in the documentation: https://pandas.pydata.org/pandas-docs/stable/user_guide/indexing.html#returning-a-view-versus-a-copy\n"
          ],
          "name": "stderr"
        }
      ]
    },
    {
      "cell_type": "code",
      "metadata": {
        "id": "evgUYoMm_9KO",
        "colab_type": "code",
        "colab": {
          "base_uri": "https://localhost:8080/",
          "height": 255
        },
        "outputId": "4c2b8e67-94c4-49cc-942c-2024ebc4bf49"
      },
      "source": [
        "heart = heart[heart.act.notna()]\n",
        "print(heart)\n",
        "heart.to_csv(\"/heart.csv\")"
      ],
      "execution_count": null,
      "outputs": [
        {
          "output_type": "stream",
          "text": [
            "         index      source                timestamp         values     act\n",
            "5017    169366  heart_rate  2017-06-29 09:57:03.462  ['79.0', '1']     Eat\n",
            "5029    169378  heart_rate  2017-06-29 09:57:09.580  ['76.0', '1']     Eat\n",
            "5040    169389  heart_rate  2017-06-29 09:57:15.619  ['72.0', '1']     Eat\n",
            "5062    169411  heart_rate  2017-06-29 09:57:23.748  ['71.0', '1']     Eat\n",
            "5090    169439  heart_rate  2017-06-29 09:57:34.627  ['72.0', '1']     Eat\n",
            "...        ...         ...                      ...            ...     ...\n",
            "172518  136396  heart_rate  2017-07-12 19:09:27.246  ['74.0', '1']  In bus\n",
            "172519  136397  heart_rate  2017-07-12 19:09:46.245  ['74.0', '0']  In bus\n",
            "172520  136398  heart_rate  2017-07-12 19:09:50.403  ['74.0', '1']  In bus\n",
            "172521  136399  heart_rate  2017-07-12 19:09:51.195  ['73.0', '1']  In bus\n",
            "172522  136400  heart_rate  2017-07-12 19:09:52.182  ['72.0', '1']  In bus\n",
            "\n",
            "[46830 rows x 5 columns]\n"
          ],
          "name": "stdout"
        }
      ]
    },
    {
      "cell_type": "code",
      "metadata": {
        "id": "pXswC0OC5D1b",
        "colab_type": "code",
        "colab": {
          "base_uri": "https://localhost:8080/",
          "height": 374
        },
        "outputId": "1766731c-3503-467d-9f44-3aed27bc0538"
      },
      "source": [
        "import pandas as pd\n",
        "from datetime import datetime\n",
        "from datetime import date\n",
        "\n",
        "report = pd.read_csv('/report.csv')\n",
        "report['from'] = report['from'].map(lambda x: datetime.strptime(x, \"%Y-%m-%d %H:%M\"))\n",
        "report['to'] = report['to'].map(lambda x: datetime.strptime(x, \"%Y-%m-%d %H:%M\"))\n",
        "smartwatch = pd.read_csv('/smartwatch.csv')\n",
        "acc = smartwatch[smartwatch['source'] == 'accelerometer']\n",
        "print(acc.head())\n",
        "def getAct(x):\n",
        "    dt = datetime.strptime(x, \"%Y-%m-%d %H:%M:%S.%f\")\n",
        "    for index, row in report.iterrows():\n",
        "        if row['from'] <= dt and dt <= row['to']:\n",
        "            return row['activity_type']\n",
        "    return None\n",
        "heart = smartwatch[smartwatch['source'] == 'heart_rate']\n",
        "acc['act'] = acc['timestamp'].map(lambda x: getAct(x))\n",
        "print(acc.head())"
      ],
      "execution_count": null,
      "outputs": [
        {
          "output_type": "stream",
          "text": [
            "     index  ...                                     values\n",
            "1   164350  ...   ['-0.3440857', '0.68330383', '9.967361']\n",
            "10  164359  ...    ['-0.4410553', '0.7886505', '9.872787']\n",
            "22  164371  ...     ['0.2496643', '1.4255066', '9.832092']\n",
            "34  164383  ...    ['1.0840454', '0.52648926', '9.967361']\n",
            "46  164395  ...  ['-1.2897949', '-0.83462524', '9.338882']\n",
            "\n",
            "[5 rows x 4 columns]\n",
            "     index         source  ...                                     values   act\n",
            "1   164350  accelerometer  ...   ['-0.3440857', '0.68330383', '9.967361']  None\n",
            "10  164359  accelerometer  ...    ['-0.4410553', '0.7886505', '9.872787']  None\n",
            "22  164371  accelerometer  ...     ['0.2496643', '1.4255066', '9.832092']  None\n",
            "34  164383  accelerometer  ...    ['1.0840454', '0.52648926', '9.967361']  None\n",
            "46  164395  accelerometer  ...  ['-1.2897949', '-0.83462524', '9.338882']  None\n",
            "\n",
            "[5 rows x 5 columns]\n"
          ],
          "name": "stdout"
        },
        {
          "output_type": "stream",
          "text": [
            "/usr/local/lib/python3.6/dist-packages/ipykernel_launcher.py:18: SettingWithCopyWarning: \n",
            "A value is trying to be set on a copy of a slice from a DataFrame.\n",
            "Try using .loc[row_indexer,col_indexer] = value instead\n",
            "\n",
            "See the caveats in the documentation: https://pandas.pydata.org/pandas-docs/stable/user_guide/indexing.html#returning-a-view-versus-a-copy\n"
          ],
          "name": "stderr"
        }
      ]
    },
    {
      "cell_type": "code",
      "metadata": {
        "id": "Bcrk_yyX9Kqj",
        "colab_type": "code",
        "colab": {
          "base_uri": "https://localhost:8080/",
          "height": 255
        },
        "outputId": "57018438-e9b5-4c5a-8fac-634b54998801"
      },
      "source": [
        "acc = acc[acc.act.notna()]\n",
        "print(acc)\n",
        "acc.to_csv(\"/acc.csv\")"
      ],
      "execution_count": null,
      "outputs": [
        {
          "output_type": "stream",
          "text": [
            "         index  ...     act\n",
            "5022    169370  ...     Eat\n",
            "5030    169379  ...     Eat\n",
            "5048    169397  ...     Eat\n",
            "5067    169416  ...     Eat\n",
            "5084    169433  ...     Eat\n",
            "...        ...  ...     ...\n",
            "172492  136369  ...  In bus\n",
            "172501  136379  ...  In bus\n",
            "172509  136387  ...  In bus\n",
            "172514  136392  ...  In bus\n",
            "172525  136403  ...  In bus\n",
            "\n",
            "[4742 rows x 5 columns]\n"
          ],
          "name": "stdout"
        }
      ]
    }
  ]
}